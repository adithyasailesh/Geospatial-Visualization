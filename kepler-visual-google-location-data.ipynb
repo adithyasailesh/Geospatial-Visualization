{
 "cells": [
  {
   "cell_type": "code",
   "execution_count": 63,
   "metadata": {},
   "outputs": [],
   "source": [
    "import os\n",
    "import multiprocessing\n",
    "import tqdm\n",
    "import pandas as pd\n",
    "import json\n",
    "import numpy as np\n",
    "from keplergl import KeplerGl\n",
    "\n",
    "os.environ['MAPBOX_API_KEY'] = \"...\" # Input something\n",
    "\n",
    "INPUT_FILE = \"Location History.json\"\n",
    "OUTPUT_FILE = \"google-location-data.parquet\"\n",
    "OUTPUT_HTML_FILE = \"kepler_gl_map.html\""
   ]
  },
  {
   "cell_type": "code",
   "execution_count": 64,
   "metadata": {},
   "outputs": [],
   "source": [
    "with open(INPUT_FILE, \"r\") as file:\n",
    "    input_json = json.load(file)"
   ]
  },
  {
   "cell_type": "code",
   "execution_count": 65,
   "metadata": {},
   "outputs": [
    {
     "name": "stdout",
     "output_type": "stream",
     "text": [
      "No:of points - 132027\n"
     ]
    }
   ],
   "source": [
    "print(\"No:of points - \" + str(len(input_json['locations'])))"
   ]
  },
  {
   "cell_type": "code",
   "execution_count": 66,
   "metadata": {},
   "outputs": [],
   "source": [
    "df = pd.DataFrame(input_json['locations'])"
   ]
  },
  {
   "cell_type": "code",
   "execution_count": 67,
   "metadata": {},
   "outputs": [],
   "source": [
    "df[\"datetime\"] = pd.to_datetime(df[\"timestampMs\"], unit=\"ms\")\n",
    "df.drop(columns=['accuracy', 'velocity', 'heading', 'verticalAccuracy', 'activity', 'timestampMs'], inplace=True)\n",
    "df.rename(columns={'latitudeE7': 'lat'}, inplace=True)\n",
    "df.rename(columns={'longitudeE7': 'lon'}, inplace=True)\n",
    "df['lat'] = df['lat'].div(10000000)\n",
    "df['lon'] = df['lon'].div(10000000)"
   ]
  },
  {
   "cell_type": "code",
   "execution_count": 68,
   "metadata": {},
   "outputs": [],
   "source": [
    "df.to_parquet(OUTPUT_FILE, compression='brotli')"
   ]
  },
  {
   "cell_type": "code",
   "execution_count": 69,
   "metadata": {},
   "outputs": [
    {
     "name": "stdout",
     "output_type": "stream",
     "text": [
      "132027\n"
     ]
    }
   ],
   "source": [
    "# If we take all data points, the render is often slow\n",
    "df_kepler = df.sample(25000)\n",
    "print(df_kepler.shape[0])\n",
    "df_kepler.head()\n",
    "\n",
    "# Reformat datetime to string for JSON serialization\n",
    "df_kepler['datetime'] = df_kepler['datetime'].astype(str)"
   ]
  },
  {
   "cell_type": "code",
   "execution_count": 70,
   "metadata": {},
   "outputs": [
    {
     "name": "stdout",
     "output_type": "stream",
     "text": [
      "User Guide: https://github.com/keplergl/kepler.gl/blob/master/docs/keplergl-jupyter/user-guide.md\n"
     ]
    },
    {
     "data": {
      "application/vnd.jupyter.widget-view+json": {
       "model_id": "e0a4c7a7c4074c1e866ece989461ac73",
       "version_major": 2,
       "version_minor": 0
      },
      "text/plain": [
       "KeplerGl(config={'version': 'v1', 'config': {'mapState': {'latitude': 27.4789508, 'longitude': 79.3952665, 'zo…"
      ]
     },
     "metadata": {},
     "output_type": "display_data"
    }
   ],
   "source": [
    "config = {\n",
    "    'version': 'v1',\n",
    "    'config': {\n",
    "        'mapState': {\n",
    "            'latitude': df_kepler.lat.median(),\n",
    "            'longitude': df_kepler.lon.median(),\n",
    "            'zoom': 5\n",
    "        }\n",
    "    }\n",
    "}\n",
    "\n",
    "keplermap = KeplerGl(height=900, config=config)\n",
    "\n",
    "# Add the data\n",
    "keplermap.add_data(data=df_kepler, name='data1')\n",
    "\n",
    "keplermap"
   ]
  },
  {
   "cell_type": "code",
   "execution_count": 71,
   "metadata": {},
   "outputs": [
    {
     "name": "stdout",
     "output_type": "stream",
     "text": [
      "Map saved to kepler_gl_map.html!\n"
     ]
    }
   ],
   "source": [
    "# save current map\n",
    "keplermap.save_to_html(file_name=OUTPUT_HTML_FILE)"
   ]
  },
  {
   "cell_type": "code",
   "execution_count": null,
   "metadata": {},
   "outputs": [],
   "source": []
  }
 ],
 "metadata": {
  "kernelspec": {
   "display_name": "Python 3",
   "language": "python",
   "name": "python3"
  },
  "language_info": {
   "codemirror_mode": {
    "name": "ipython",
    "version": 3
   },
   "file_extension": ".py",
   "mimetype": "text/x-python",
   "name": "python",
   "nbconvert_exporter": "python",
   "pygments_lexer": "ipython3",
   "version": "3.8.1"
  }
 },
 "nbformat": 4,
 "nbformat_minor": 4
}